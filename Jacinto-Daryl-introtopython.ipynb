{
 "cells": [
  {
   "cell_type": "markdown",
   "metadata": {},
   "source": [
    "192527\n",
    "Jacinto\n",
    "2 BS ITE"
   ]
  },
  {
   "cell_type": "code",
   "execution_count": 3,
   "metadata": {},
   "outputs": [],
   "source": [
    "def final_average(first_number,second_number,third_number):\n",
    "    average = (first_number + second_number + third_number)/3\n",
    "    return average"
   ]
  },
  {
   "cell_type": "code",
   "execution_count": null,
   "metadata": {},
   "outputs": [],
   "source": [
    "first_number = float(input(\"Enter First Number: \"))\n",
    "second_number = float(input(\"Enter Second Number: \"))\n",
    "third_number = float(input(\"Enter Third Number: \"))\n",
    "average = final_average(first_number,second_number,third_number)\n",
    "print (\"The average of the numbers inputted is\", average)"
   ]
  },
  {
   "cell_type": "code",
   "execution_count": null,
   "metadata": {},
   "outputs": [],
   "source": []
  }
 ],
 "metadata": {
  "kernelspec": {
   "display_name": "Python 3",
   "language": "python",
   "name": "python3"
  },
  "language_info": {
   "codemirror_mode": {
    "name": "ipython",
    "version": 3
   },
   "file_extension": ".py",
   "mimetype": "text/x-python",
   "name": "python",
   "nbconvert_exporter": "python",
   "pygments_lexer": "ipython3",
   "version": "3.8.3"
  }
 },
 "nbformat": 4,
 "nbformat_minor": 4
}
