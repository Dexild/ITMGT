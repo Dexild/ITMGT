{
 "cells": [
  {
   "cell_type": "markdown",
   "metadata": {},
   "source": [
    "192527\n",
    "Jacinto\n",
    "2 BS ITE"
   ]
  },
  {
   "cell_type": "code",
   "execution_count": null,
   "metadata": {},
   "outputs": [],
   "source": [
    "def final_dollars_to_pesos(us_dollars):\n",
    "    dollars_to_pesos = (us_dollars * 48.45)\n",
    "    return dollars_to_pesos"
   ]
  },
  {
   "cell_type": "code",
   "execution_count": null,
   "metadata": {},
   "outputs": [],
   "source": [
    "us_dollars = float(input(\"Enter the amount in US Dollars:\"))\n",
    "dollars_to_pesos = final_dollars_to_pesos(us_dollars)\n",
    "print (us_dollars, \"US dollar(s) = \", dollars_to_pesos)"
   ]
  },
  {
   "cell_type": "code",
   "execution_count": null,
   "metadata": {},
   "outputs": [],
   "source": []
  },
  {
   "cell_type": "code",
   "execution_count": null,
   "metadata": {},
   "outputs": [],
   "source": [
    "def final_integer(first_integer, second_integer):\n",
    "    sum_integer = (first_integer + second_integer)\n",
    "    difference_integer = (first_integer - second_integer)\n",
    "    product_integer = (first_integer * second_integer)\n",
    "    quotient_integer = (first_integer // second_integer)\n",
    "    remainder_integer = (first_integer % second_integer)\n",
    "    return sum_integer, difference_integer, product_integer, quotient_integer, remainder_integer"
   ]
  },
  {
   "cell_type": "code",
   "execution_count": null,
   "metadata": {},
   "outputs": [],
   "source": [
    "first_integer = float(input(\"Enter the First Integer:\"))\n",
    "second_integer = float(input(\"Enter the Second Integer:\"))\n",
    "sum_integer = final_integer(first_integer, second_integer)\n",
    "difference_integer = final_integer(first_integer, second_integer)\n",
    "product_integer = final_integer(first_integer, second_integer)\n",
    "quotient_integer = final_integer(first_integer, second_integer)\n",
    "remainder_integer = final_integer(first_integer, second_integer)\n",
    "print (*sum_integer, sep = \"\\n\")"
   ]
  },
  {
   "cell_type": "code",
   "execution_count": null,
   "metadata": {},
   "outputs": [],
   "source": []
  },
  {
   "cell_type": "code",
   "execution_count": null,
   "metadata": {},
   "outputs": [],
   "source": [
    "def final_bmi(weight_integer, height_integer):\n",
    "    quotient_bmi_integer = ((height_integer / 100)**2)\n",
    "    bmi = (weight_integer/(quotient_bmi_integer))\n",
    "    return bmi\n"
   ]
  },
  {
   "cell_type": "code",
   "execution_count": null,
   "metadata": {},
   "outputs": [],
   "source": [
    "weight_integer = float(input(\"Enter Weight in kilograms:\"))\n",
    "height_integer = float(input(\"Enter Height in centimeters:\"))\n",
    "quotient_bmi_integer = final_bmi(weight_integer, height_integer)\n",
    "bmi = final_bmi(weight_integer, height_integer)\n",
    "print (bmi)"
   ]
  }
 ],
 "metadata": {
  "kernelspec": {
   "display_name": "Python 3",
   "language": "python",
   "name": "python3"
  },
  "language_info": {
   "codemirror_mode": {
    "name": "ipython",
    "version": 3
   },
   "file_extension": ".py",
   "mimetype": "text/x-python",
   "name": "python",
   "nbconvert_exporter": "python",
   "pygments_lexer": "ipython3",
   "version": "3.8.3"
  }
 },
 "nbformat": 4,
 "nbformat_minor": 4
}
